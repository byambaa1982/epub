{
 "cells": [
  {
   "attachments": {},
   "cell_type": "markdown",
   "metadata": {},
   "source": [
    "# Databricks\n",
    "\n",
    "## Practice Exams\n",
    "\n",
    "### Databricks Certified Data Engineer Associate\n"
   ]
  },
  {
   "attachments": {},
   "cell_type": "markdown",
   "metadata": {},
   "source": [
    "## Overview\n",
    "\n",
    "This is a practice exam for the Databricks Certified Data Engineer Associate exam. The\n",
    "questions here are retired questions from the actual exam that are representative of the\n",
    "questions one will receive while taking the actual exam. After taking this practice exam, one\n",
    "should know what to expect while taking the actual Data Engineer Associate exam.\n",
    "Just like the actual exam, it contains 45 multiple-choice questions. Each of these questions\n",
    "has one correct answer. The correct answer for each question is listed at the bottom in the\n",
    "Correct Answers section.\n",
    "There are a few more things to be aware of:\n",
    "1. There is a 90-minute time limit to take the actual exam.\n",
    "2. In order to pass the actual exam, testers will need to correctly answer at least 32 of\n",
    "the 45 questions.\n",
    "3. Testers will not have access to any documentation or Databricks environments\n",
    "during the exam.\n",
    "4. These questions are representative of questions that are on the actual exam, but\n",
    "they are no longer on the actual exam.\n",
    "If you have more questions, please review the Databricks Academy Certification FAQ.\n",
    "Once you’ve completed the practice exam, evaluate your score using the correct answers at\n",
    "the bottom of this document. If you’re ready to take the exam, head to the Databricks\n",
    "Certification portal to register."
   ]
  },
  {
   "attachments": {},
   "cell_type": "markdown",
   "metadata": {},
   "source": [
    "Length: 90 Minutes\n",
    "\n",
    "Format: 45 Multiple Choice Questions\n",
    "\n",
    "Exam Topics:\n",
    "\n",
    "- Databricks Lakehouse Platform — 24% (11/45)\n",
    "- ELT with Spark SQL and Python — 29% (13/45)\n",
    "- Incremental Data Processing — 22% (10/45)\n",
    "- Production Pipelines — 16% (7/45)\n",
    "- Data Governance — 9% (4/45)\n",
    "\n",
    "\n",
    "Cost: $200 USD"
   ]
  }
 ],
 "metadata": {
  "kernelspec": {
   "display_name": "Python 3",
   "language": "python",
   "name": "python3"
  },
  "language_info": {
   "codemirror_mode": {
    "name": "ipython",
    "version": 3
   },
   "file_extension": ".py",
   "mimetype": "text/x-python",
   "name": "python",
   "nbconvert_exporter": "python",
   "pygments_lexer": "ipython3",
   "version": "3.8.0"
  },
  "widgets": {
   "application/vnd.jupyter.widget-state+json": {
    "state": {},
    "version_major": 2,
    "version_minor": 0
   }
  }
 },
 "nbformat": 4,
 "nbformat_minor": 4
}
