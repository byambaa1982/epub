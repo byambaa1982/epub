{
 "cells": [
  {
   "attachments": {},
   "cell_type": "markdown",
   "metadata": {},
   "source": [
    "# 1. Introduction to Python\n",
    "\n",
    "## 1. Why Python?\n",
    "\n",
    "- [Learn and Earn](https://github.com/byambaa1982/python_cources_for_beginers/blob/main/1_introduction/why_python.md)\n",
    "\n",
    "## 2. [Variables and Data Types](https://github.com/byambaa1982/python_cources_for_beginers/tree/main/2_variables_and_operations)\n",
    "\n",
    "- Basic Operators and Expressions\n",
    "- Input and Output Functions\n",
    "- Comments and Docstrings\n",
    "\n",
    "## 3. [Conditional Statements: if, elif, and else](https://github.com/byambaa1982/python_cources_for_beginers/tree/main/3_control%20flow)\n",
    "\n",
    "- Looping: for and while Loops\n",
    "- Loop Control: break and continue\n",
    "- List Comprehensions\n",
    "- Functions and Modules\n",
    "\n",
    "## 4. [Defining Functions](https://github.com/byambaa1982/python_cources_for_beginers/tree/main/4_functions)\n",
    "\n",
    "- Function Arguments and Return Values\n",
    "- Variable Scope\n",
    "- Importing Modules and Libraries\n",
    "\n",
    "\n",
    "## 5. [Data Structures](https://github.com/byambaa1982/python_cources_for_beginers/tree/main/5_lists_tuples_dictionaries_sets)\n",
    "\n",
    "- Lists\n",
    "- Tuples\n",
    "- Dictionaries\n",
    "- Sets\n",
    "\n",
    "## 6. [Working with Strings](https://github.com/byambaa1982/python_cources_for_beginers/tree/main/6_string_formating)\n",
    "\n",
    "- String Basics\n",
    "- String Formatting\n",
    "- Common String Methods\n",
    "- Regular Expressionss\n"
   ]
  }
 ],
 "metadata": {
  "language_info": {
   "name": "python"
  },
  "orig_nbformat": 4
 },
 "nbformat": 4,
 "nbformat_minor": 2
}
