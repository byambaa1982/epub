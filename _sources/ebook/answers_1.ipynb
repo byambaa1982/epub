{
 "cells": [
  {
   "attachments": {},
   "cell_type": "markdown",
   "metadata": {},
   "source": [
    "# Correct Answers\n"
   ]
  },
  {
   "attachments": {},
   "cell_type": "markdown",
   "metadata": {},
   "source": [
    "\n",
    "- 1. E\n",
    "- 2. A\n",
    "- 3. D\n",
    "- 4. C\n",
    "- 5. C\n",
    "- 6. B\n",
    "- 7. E\n",
    "- 8. B\n",
    "- 9. B\n",
    "- 10. C\n",
    "- 11. B\n",
    "- 12. C\n",
    "- 13. E\n",
    "- 14. A\n",
    "- 15. A\n",
    "- 16. A\n",
    "- 17. B\n",
    "- 18. C\n",
    "- 19. A\n",
    "- 20. D\n",
    "- 21. B\n",
    "- 22. A\n",
    "- 23. A\n",
    "- 24. D\n",
    "- 25. A\n",
    "- 26. A\n",
    "- 27. E\n",
    "- 28. C\n",
    "- 29. E\n",
    "- 30. D\n",
    "- 31. C\n",
    "- 32. A\n",
    "- 33. B\n",
    "- 34. B\n",
    "- 35. A\n",
    "- 36. D\n",
    "- 37. D\n",
    "- 38. A\n",
    "- 39. C\n",
    "- 40. C\n",
    "- 41. B\n",
    "- 42. D\n",
    "- 43. D\n",
    "- 44. C\n",
    "- 45. A"
   ]
  }
 ],
 "metadata": {
  "kernelspec": {
   "display_name": "Python 3",
   "language": "python",
   "name": "python3"
  },
  "language_info": {
   "codemirror_mode": {
    "name": "ipython",
    "version": 3
   },
   "file_extension": ".py",
   "mimetype": "text/x-python",
   "name": "python",
   "nbconvert_exporter": "python",
   "pygments_lexer": "ipython3",
   "version": "3.8.0"
  },
  "widgets": {
   "application/vnd.jupyter.widget-state+json": {
    "state": {},
    "version_major": 2,
    "version_minor": 0
   }
  }
 },
 "nbformat": 4,
 "nbformat_minor": 4
}
