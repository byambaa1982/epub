{
 "cells": [
  {
   "cell_type": "code",
   "execution_count": 1,
   "id": "7393532b",
   "metadata": {},
   "outputs": [],
   "source": [
    "import os\n",
    "import openai\n",
    "import tiktoken\n",
    "import json\n",
    "from PIL import Image\n",
    "import io\n",
    "import base64\n",
    "from dotenv import load_dotenv, find_dotenv\n",
    "import PyPDF2\n",
    "\n",
    "\n",
    "\n",
    "_ = load_dotenv(find_dotenv()) "
   ]
  },
  {
   "cell_type": "markdown",
   "id": "b8ef11af",
   "metadata": {},
   "source": [
    "# Functions"
   ]
  },
  {
   "cell_type": "code",
   "execution_count": 2,
   "id": "ad9b2fd9",
   "metadata": {},
   "outputs": [],
   "source": [
    "# Load the API key from a JSON file\n",
    "with open('config.json', 'r') as file:\n",
    "    config = json.load(file)\n",
    "    api_key = config['openai_api_key']\n",
    "\n",
    "openai.api_key = str(api_key)"
   ]
  },
  {
   "cell_type": "code",
   "execution_count": 3,
   "id": "b5a5fed8",
   "metadata": {},
   "outputs": [],
   "source": [
    "def resize_compress_encode_image(image_path, output_size=(300, 100), quality=60):\n",
    "    # Resize and compress the image\n",
    "    with Image.open(image_path) as img:\n",
    "        img = img.resize(output_size, Image.Resampling.LANCZOS)\n",
    "        buffer = io.BytesIO()\n",
    "        img.save(buffer, format=\"JPEG\", quality=quality)\n",
    "        buffer.seek(0)\n",
    "        encoded_image = base64.b64encode(buffer.read()).decode()\n",
    "    return encoded_image"
   ]
  },
  {
   "cell_type": "code",
   "execution_count": 4,
   "id": "c63e970b",
   "metadata": {},
   "outputs": [],
   "source": [
    "def get_completion(prompt, model=\"gpt-4-1106-preview\"):\n",
    "    messages = [{\"role\": \"user\", \"content\": prompt}]\n",
    "    response = openai.ChatCompletion.create(\n",
    "        model=model,\n",
    "        messages=messages,\n",
    "        temperature=0, # this is the degree of randomness of the model's output \n",
    "    )\n",
    "    return response.choices[0].message[\"content\"]"
   ]
  },
  {
   "cell_type": "code",
   "execution_count": 5,
   "id": "ef1d3586",
   "metadata": {},
   "outputs": [],
   "source": [
    "def send_image_query_to_openai(encoded_image):\n",
    "    # Prepare the chat message payload with the encoded image\n",
    "    payload = {\n",
    "        \"model\": \"gpt-4-vision-preview\",  \n",
    "        \"messages\": [\n",
    "            {\n",
    "                \"role\": \"user\",\n",
    "                \"content\": [\n",
    "                    {\"type\": \"text\", \"text\": \"What’s in this image?\"},\n",
    "                    {\n",
    "                        \"type\": \"image_url\",\n",
    "                        \"image_url\": {\n",
    "                            \"url\": f\"data:image/jpeg;base64,{encoded_image}\"\n",
    "                        },\n",
    "                    },\n",
    "                ],\n",
    "            }\n",
    "        ]\n",
    "    }\n",
    "\n",
    "    # Send the request to the API\n",
    "    response = openai.ChatCompletion.create(**payload)\n",
    "\n",
    "    # Return the content of the response\n",
    "    return response.choices[0].message[\"content\"]"
   ]
  },
  {
   "cell_type": "code",
   "execution_count": 6,
   "id": "b488299c",
   "metadata": {},
   "outputs": [],
   "source": [
    "def query_openai_with_image_url(image_url, question=\"What’s in this image?\"):\n",
    "    # Prepare the chat message payload with the image URL\n",
    "    payload = {\n",
    "        \"model\": \"gpt-4-vision-preview\",  \n",
    "        \"messages\": [\n",
    "            {\n",
    "                \"role\": \"user\",\n",
    "                \"content\": [\n",
    "                    {\"type\": \"text\", \"text\": question},\n",
    "                    {\n",
    "                        \"type\": \"image_url\",\n",
    "                        \"image_url\": {\"url\": image_url},\n",
    "                    },\n",
    "                ],\n",
    "            }\n",
    "        ]\n",
    "    }\n",
    "\n",
    "    # Send the request to the API\n",
    "    response = openai.ChatCompletion.create(**payload)\n",
    "    return response.choices[0].message[\"content\"] if 'choices' in response and response.choices else \"No content found\"\n"
   ]
  },
  {
   "cell_type": "code",
   "execution_count": 7,
   "id": "201eb58e",
   "metadata": {},
   "outputs": [],
   "source": [
    "def read_python_file_to_string(file_path):\n",
    "    try:\n",
    "        with open(file_path, 'r', encoding='utf-8') as file:\n",
    "            code_string = file.read()\n",
    "        return code_string\n",
    "    except FileNotFoundError:\n",
    "        return \"File not found.\"\n",
    "    except Exception as e:\n",
    "        return f\"An error occurred: {str(e)}\""
   ]
  },
  {
   "cell_type": "code",
   "execution_count": 8,
   "id": "f2c67f8d",
   "metadata": {},
   "outputs": [],
   "source": [
    "def notebook_to_string(file_path):\n",
    "    try:\n",
    "        with open(file_path, 'r', encoding='utf-8') as file:\n",
    "            notebook_content = json.load(file)\n",
    "        return json.dumps(notebook_content, indent=4)  # Convert JSON content to a formatted string\n",
    "    except FileNotFoundError:\n",
    "        return \"File not found: {}\".format(file_path)\n",
    "    except json.JSONDecodeError:\n",
    "        return \"Error decoding JSON from file: {}\".format(file_path)\n",
    "    except Exception as e:\n",
    "        return \"An error occurred: {}\".format(str(e))"
   ]
  },
  {
   "cell_type": "code",
   "execution_count": 9,
   "id": "b98db50a",
   "metadata": {},
   "outputs": [],
   "source": [
    "def string_to_notebook(json_string, file_path):\n",
    "    try:\n",
    "        # Parse the JSON string\n",
    "        notebook_content = json.loads(json_string)\n",
    "\n",
    "        # Write the JSON object to an .ipynb file\n",
    "        with open(file_path, 'w', encoding='utf-8') as file:\n",
    "            json.dump(notebook_content, file, indent=4)\n",
    "\n",
    "        return f\"Successfully created notebook: {file_path}\"\n",
    "    except json.JSONDecodeError:\n",
    "        return \"Invalid JSON string\"\n",
    "    except Exception as e:\n",
    "        return f\"An error occurred: {str(e)}\""
   ]
  },
  {
   "cell_type": "code",
   "execution_count": 10,
   "id": "a47272be",
   "metadata": {},
   "outputs": [],
   "source": [
    "def markdown_to_string(file_path):\n",
    "    try:\n",
    "        with open(file_path, 'r', encoding='utf-8') as file:\n",
    "            content = file.read()\n",
    "        return content\n",
    "    except FileNotFoundError:\n",
    "        return f\"File not found: {file_path}\"\n",
    "    except Exception as e:\n",
    "        return f\"An error occurred: {str(e)}\"\n"
   ]
  },
  {
   "cell_type": "code",
   "execution_count": 11,
   "id": "104423a7",
   "metadata": {},
   "outputs": [],
   "source": [
    "def string_to_markdown(content, file_path):\n",
    "    try:\n",
    "        with open(file_path, 'w', encoding='utf-8') as file:\n",
    "            file.write(content)\n",
    "        return f\"Successfully written to {file_path}\"\n",
    "    except Exception as e:\n",
    "        return f\"An error occurred: {str(e)}\"\n",
    "\n"
   ]
  },
  {
   "cell_type": "code",
   "execution_count": 12,
   "id": "b0789473",
   "metadata": {},
   "outputs": [],
   "source": [
    "def chunk_text_by_question(text):\n",
    "    # Split text using a positive lookbehind on the pattern \"### Question X\"\n",
    "    # This keeps the pattern in the resulting list\n",
    "    questions = re.split(r'(?<=\\n### Question \\d+\\n)', text)\n",
    "\n",
    "    # Remove the first empty element if it exists\n",
    "    if questions and questions[0].strip() == '':\n",
    "        questions = questions[1:]\n",
    "\n",
    "    return questions"
   ]
  },
  {
   "cell_type": "code",
   "execution_count": 13,
   "id": "51f71dda",
   "metadata": {},
   "outputs": [],
   "source": [
    "import re\n",
    "\n",
    "def chunk_text_by_question(text):\n",
    "    # Split text on the pattern, but keep the pattern in the result\n",
    "    questions = re.split(r'(\\n### Question \\d+\\n)', text)\n",
    "\n",
    "    # Reattach the split pattern to each chunk\n",
    "    combined_questions = []\n",
    "    for i in range(1, len(questions), 2):\n",
    "        combined_question = questions[i] + questions[i+1]\n",
    "        combined_questions.append(combined_question.strip())\n",
    "\n",
    "    return combined_questions\n",
    "\n"
   ]
  },
  {
   "cell_type": "code",
   "execution_count": 14,
   "id": "a13b2d21",
   "metadata": {},
   "outputs": [],
   "source": [
    "def append_to_markdown(file_path, text_to_append):\n",
    "    try:\n",
    "        with open(file_path, 'a', encoding='utf-8') as file:\n",
    "            file.write(text_to_append)\n",
    "        return f\"Text appended successfully to {file_path}\"\n",
    "    except FileNotFoundError:\n",
    "        return \"File not found.\"\n",
    "    except Exception as e:\n",
    "        return f\"An error occurred: {str(e)}\"\n",
    "\n",
    "# Example usage\n",
    "# file_path = 'test_2.md'  # Replace with your Markdown file path\n",
    "# text_to_append = question_list[29]\n",
    "# result = append_to_markdown(file_path, text_to_append)\n",
    "# print(result)\n"
   ]
  },
  {
   "cell_type": "code",
   "execution_count": 15,
   "id": "f1cf3014",
   "metadata": {},
   "outputs": [],
   "source": [
    "import nbformat\n",
    "import os\n",
    "\n",
    "def notebook_to_markdown(notebook_path, markdown_path):\n",
    "    try:\n",
    "        # Read the notebook\n",
    "        with open(notebook_path, 'r', encoding='utf-8') as file:\n",
    "            notebook = nbformat.read(file, as_version=4)\n",
    "\n",
    "        # Process each cell and extract content\n",
    "        markdown_content = []\n",
    "        for cell in notebook.cells:\n",
    "            if cell.cell_type == 'markdown':\n",
    "                # Directly add markdown content\n",
    "                markdown_content.append(''.join(cell.source))\n",
    "            elif cell.cell_type == 'code':\n",
    "                # Add code in Markdown code block format\n",
    "                code_block = '```python\\n' + ''.join(cell.source) + '\\n```'\n",
    "                markdown_content.append(code_block)\n",
    "\n",
    "        # Write content to the markdown file\n",
    "        with open(markdown_path, 'w', encoding='utf-8') as md_file:\n",
    "            md_file.write('\\n'.join(markdown_content))\n",
    "\n",
    "        return f\"Markdown file created successfully: {markdown_path}\"\n",
    "    except FileNotFoundError:\n",
    "        return \"Notebook file not found.\"\n",
    "    except Exception as e:\n",
    "        return f\"An error occurred: {str(e)}\"\n",
    "\n",
    "\n"
   ]
  },
  {
   "cell_type": "code",
   "execution_count": 16,
   "id": "c4f66422",
   "metadata": {},
   "outputs": [],
   "source": [
    "def resize_compress_encode_image(image_path, output_size=(300, 100), quality=60):\n",
    "    # Resize and compress the image\n",
    "    with Image.open(image_path) as img:\n",
    "        img = img.resize(output_size, Image.Resampling.LANCZOS)\n",
    "        buffer = io.BytesIO()\n",
    "        img.save(buffer, format=\"JPEG\", quality=quality)\n",
    "        buffer.seek(0)\n",
    "        encoded_image = base64.b64encode(buffer.read()).decode()\n",
    "    return encoded_image"
   ]
  },
  {
   "cell_type": "markdown",
   "id": "4757a62d",
   "metadata": {},
   "source": [
    "# Prompt 1: Create ebook"
   ]
  },
  {
   "cell_type": "code",
   "execution_count": 17,
   "id": "97419797",
   "metadata": {},
   "outputs": [
    {
     "name": "stdout",
     "output_type": "stream",
     "text": [
      "example.md\n",
      "example_2.md\n"
     ]
    }
   ],
   "source": [
    "files = [ \"example.md\"]\n",
    "for i, file in enumerate(files, start=1):\n",
    "    print(file)\n",
    "    content_string = markdown_to_string(file)\n",
    "\n",
    "    prompt = f'''Please read example memory tricks for the Databricks Certified Data Engineer Associate exam and create \n",
    "    a blog expanding it with more clever memory techniques.\n",
    "    My input json {content_string}'''\n",
    "\n",
    "    completion = get_completion(prompt)\n",
    "    if completion:\n",
    "        output_path = f\"example_2.md\"\n",
    "        print(output_path)\n",
    "        result = string_to_markdown(completion, output_path)"
   ]
  },
  {
   "cell_type": "code",
   "execution_count": 18,
   "id": "10d6ddc7",
   "metadata": {},
   "outputs": [
    {
     "name": "stdout",
     "output_type": "stream",
     "text": [
      "example_2.md\n",
      "example_2.md\n"
     ]
    }
   ],
   "source": [
    "files = [ \"example_2.md\"]\n",
    "for i, file in enumerate(files, start=1):\n",
    "    print(file)\n",
    "    content_string = markdown_to_string(file)\n",
    "\n",
    "    prompt = f'''\n",
    "    Make it better blog more longer.\n",
    "    My input json {content_string}'''\n",
    "\n",
    "    completion = get_completion(prompt)\n",
    "    if completion:\n",
    "        output_path = f\"example_2.md\"\n",
    "        print(output_path)\n",
    "        result = string_to_markdown(completion, output_path)"
   ]
  },
  {
   "cell_type": "code",
   "execution_count": null,
   "id": "a2496bd2",
   "metadata": {},
   "outputs": [],
   "source": []
  }
 ],
 "metadata": {
  "kernelspec": {
   "display_name": "Python 3 (ipykernel)",
   "language": "python",
   "name": "python3"
  },
  "language_info": {
   "codemirror_mode": {
    "name": "ipython",
    "version": 3
   },
   "file_extension": ".py",
   "mimetype": "text/x-python",
   "name": "python",
   "nbconvert_exporter": "python",
   "pygments_lexer": "ipython3",
   "version": "3.11.3"
  }
 },
 "nbformat": 4,
 "nbformat_minor": 5
}
