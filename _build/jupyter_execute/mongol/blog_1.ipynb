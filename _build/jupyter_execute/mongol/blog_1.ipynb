{
 "cells": [
  {
   "attachments": {},
   "cell_type": "markdown",
   "metadata": {},
   "source": [
    "# Databricks гэж юу?\n",
    "\n",
    "## Ерөнхий ойлголтууд\n",
    "\n",
    "Датабрикс бол data engineering, machine learning, analytics гэсэн бүх дататай холбоотой хэрэгцээг нэг дороос хангасан хүчирхэг флатформ юм. Тооцоолох хадгалах цэвэрлэх шэйрлэх загварчлах график хүснэгт гаргахаас авхуулаад маш олон мэргэжлийн хүмүүс олон байгууллагууд датаг аюулгүйгээр шэйрлэж хэрэглэж болдог. \n",
    "\n"
   ]
  },
  {
   "attachments": {},
   "cell_type": "markdown",
   "metadata": {},
   "source": [
    "## 1. Давуу талууд\n",
    "\n",
    "- `Хамтын орчин` буюу `Unified Workspace`: Databricks нь олон янзын хэрэглэгчид олон төрлийн ажлыг хамтын орчноос гүйцэтгэх боломжийг олгодог.  Дата код зэргийг мэдэх шаардлагагүйгээр удирдлагууд захирлууд өөрсдийн датаг амархан мониторинг хийснээр аюулгүй байдлын асар том боломж олж авдаг.\n",
    "\n",
    "Энгийн жишээ авая. Танай компани мэргэжлийн компаниас дата инжнерчлэлийн тусламж шаардлагатай болсон гэж төсөөлье. Гэтэл танай дата дотор байгууллага хувь хүний нууцтай холбоотой мэдээлэл бүхий нэг багана байлаа гэхэд зөвхөн тэр баганыг гүйцэтгэгч компани харах боломгүйгээр датаг боловсруулж болдог. Бас болоогүй тухайн датан дээр хэн хэзээ яг ямар үйлдэл хийсэн нь тодорхой харагдаж байдаг. Ингэснээр аль аль талд итгэл үүсдэг. Баахан нууцлалын гэрээ бичиг цаас болохгүй гэсэн үг."
   ]
  },
  {
   "attachments": {},
   "cell_type": "markdown",
   "metadata": {},
   "source": [
    "```\n",
    "+------------+--------------+--------------------------------+-------------------+\n",
    "|name        |date_of_birth |hashed_salary                   |anonymized_address |\n",
    "+------------+--------------+--------------------------------+-------------------+\n",
    "|John Doe    |1980-05-10    |c4d23d97b6a6414bc8fb144abbeeeef7 |Anonymized         |\n",
    "|Jane Smith  |1992-12-15    |b6c87dd984adee6ff453a94a5e36f1b1 |Anonymized         |\n",
    "|Mike Johnson|1985-07-22    |a55c1e1398dd42de8d34d96c4a523f40 |Anonymized         |\n",
    "+------------+--------------+--------------------------------+-------------------+\n",
    "```"
   ]
  },
  {
   "attachments": {},
   "cell_type": "markdown",
   "metadata": {},
   "source": [
    "Дээрх жишээн дээр танай дататай харьцаж байгаа гадны ажилтан танай ажилчидын цалин гэрийн хаягийг харах боломжгүй ч танай датаг загварчилж автоматжуулж чадна. Харин танай хүний нөөц энэ датаг бүтнээр нь харж болдог. Нэмж хэлэхэд яг нэг датаг өөр өөр түвшинд эзэмшиж болдог. Компаний ашиг хэсгийг зөвхөн захирал л харах эрхтэй байдаг ч юм уу. \n"
   ]
  },
  {
   "attachments": {},
   "cell_type": "markdown",
   "metadata": {},
   "source": [
    "- `Parallel computing`: Add more information \n",
    "\n",
    "more infromation here ..."
   ]
  },
  {
   "attachments": {},
   "cell_type": "markdown",
   "metadata": {},
   "source": [
    "## 2. Databricks Architecture"
   ]
  },
  {
   "attachments": {},
   "cell_type": "markdown",
   "metadata": {},
   "source": [
    "add more infromation here ...."
   ]
  },
  {
   "attachments": {},
   "cell_type": "markdown",
   "metadata": {},
   "source": [
    "## 3. Use case"
   ]
  },
  {
   "attachments": {},
   "cell_type": "markdown",
   "metadata": {},
   "source": [
    "add more information here ..."
   ]
  },
  {
   "attachments": {},
   "cell_type": "markdown",
   "metadata": {},
   "source": []
  }
 ],
 "metadata": {
  "kernelspec": {
   "display_name": "Python 3",
   "language": "python",
   "name": "python3"
  },
  "language_info": {
   "codemirror_mode": {
    "name": "ipython",
    "version": 3
   },
   "file_extension": ".py",
   "mimetype": "text/x-python",
   "name": "python",
   "nbconvert_exporter": "python",
   "pygments_lexer": "ipython3",
   "version": "3.11.3"
  },
  "widgets": {
   "application/vnd.jupyter.widget-state+json": {
    "state": {},
    "version_major": 2,
    "version_minor": 0
   }
  }
 },
 "nbformat": 4,
 "nbformat_minor": 4
}