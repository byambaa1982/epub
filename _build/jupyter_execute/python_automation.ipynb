{
 "cells": [
  {
   "cell_type": "code",
   "execution_count": null,
   "metadata": {},
   "outputs": [],
   "source": []
  },
  {
   "attachments": {},
   "cell_type": "markdown",
   "metadata": {},
   "source": [
    "You can schedule a Python script to run at regular intervals on Windows by using the Task Scheduler. Here's how to do it:\n",
    "\n",
    "Press the Windows key and type \"Task Scheduler\". Open it.\n",
    "\n",
    "In the Task Scheduler, click on \"Create Basic Task\".\n",
    "\n",
    "Type a name and a description for the task, then click \"Next\".\n",
    "\n",
    "Choose \"Weekly\", then click \"Next\".\n",
    "\n",
    "Set the start time, and the days of the week on which you want the task to run, then click \"Next\".\n",
    "\n",
    "Choose \"Start a program\", then click \"Next\".\n",
    "\n",
    "In \"Program/script\", type the full path of your Python interpreter. For example, it might be something like C:\\Users\\YourUserName\\AppData\\Local\\Programs\\Python\\Python39\\python.exe.\n",
    "\n",
    "In \"Add arguments\", type the name of your Python script. If your script is in a different directory, you'll need to type the full path of the script.\n",
    "\n",
    "In \"Start in\", type the path to the folder that contains your Python script, then click \"Next\".\n",
    "\n",
    "Click \"Finish\"."
   ]
  },
  {
   "attachments": {},
   "cell_type": "markdown",
   "metadata": {},
   "source": [
    "## Automate python script in local"
   ]
  },
  {
   "attachments": {},
   "cell_type": "markdown",
   "metadata": {},
   "source": [
    "You can schedule a Python script to run at regular intervals on Windows by using the Task Scheduler. Here's how to do it:\n",
    "\n",
    "1. Press the `Windows` key and type \"Task Scheduler\". Open it.\n",
    "\n",
    "2. In the Task Scheduler, click on \"Create Basic Task\".\n",
    "\n",
    "3. Type a name and a description for the task, then click \"Next\".\n",
    "\n",
    "4. Choose \"Weekly\", then click \"Next\".\n",
    "\n",
    "5. Set the start time, and the days of the week on which you want the task to run, then click \"Next\".\n",
    "\n",
    "6. Choose \"Start a program\", then click \"Next\".\n",
    "\n",
    "7. In \"Program/script\", type the full path of your Python interpreter. For example, it might be something like C:\\Users\\YourUserName\\AppData\\Local\\Programs\\Python\\Python39\\python.exe.\n",
    "\n",
    "8. In \"Add arguments\", type the name of your Python script. If your script is in a different directory, you'll need to type the full path of the script.\n",
    "\n",
    "9. In \"Start in\", type the path to the folder that contains your Python script, then click \"Next\".\n",
    "\n",
    "10. Click \"Finish\"."
   ]
  },
  {
   "cell_type": "markdown",
   "metadata": {},
   "source": []
  }
 ],
 "metadata": {
  "language_info": {
   "codemirror_mode": {
    "name": "ipython",
    "version": 3
   },
   "file_extension": ".py",
   "mimetype": "text/x-python",
   "name": "python",
   "nbconvert_exporter": "python",
   "pygments_lexer": "ipython3",
   "version": "3.11.3"
  }
 },
 "nbformat": 4,
 "nbformat_minor": 2
}