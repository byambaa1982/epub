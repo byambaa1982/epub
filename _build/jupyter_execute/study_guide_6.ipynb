{
 "cells": [
  {
   "attachments": {},
   "cell_type": "markdown",
   "metadata": {
    "colab_type": "text",
    "id": "view-in-github"
   },
   "source": [
    "<a href=\"https://colab.research.google.com/github/byambaa1982/python_cources_for_beginers/blob/main/6_string_formating/working_with_strings.ipynb\" target=\"_parent\"><img src=\"https://colab.research.google.com/assets/colab-badge.svg\" alt=\"Open In Colab\"/></a>"
   ]
  },
  {
   "attachments": {},
   "cell_type": "markdown",
   "metadata": {
    "id": "e6RqxzGelbxd"
   },
   "source": [
    "# 6. String\n",
    "\n",
    "Python strings are sequences of characters enclosed in quotes (either single quotes ' or double quotes \"). They are used to represent text data in Python programs. Strings are an example of a built-in data type in Python.\n",
    "\n",
    "Here's a brief explanation of Python strings and some simple examples:\n",
    "\n",
    "1. `Creating strings`: Strings can be created using single quotes or double quotes. You can also use triple quotes (''' or \"\"\") to create multiline strings."
   ]
  },
  {
   "cell_type": "code",
   "execution_count": 1,
   "metadata": {
    "id": "Z4NHvSEBhMth"
   },
   "outputs": [],
   "source": [
    "# Creating strings\n",
    "string1 = 'Hello, World!'\n",
    "string2 = \"Python is fun!\"\n",
    "string3 = '''This is a\n",
    "multiline\n",
    "string.'''"
   ]
  },
  {
   "attachments": {},
   "cell_type": "markdown",
   "metadata": {
    "id": "SWMZohwClo_X"
   },
   "source": [
    "2. `Accessing characters`: You can access individual characters in a string using indexing, with the index starting from 0."
   ]
  },
  {
   "cell_type": "code",
   "execution_count": 2,
   "metadata": {
    "id": "y1t6gNvslw11"
   },
   "outputs": [],
   "source": [
    "name = 'Alice'\n",
    "first_char = name[0]  # 'A'\n",
    "second_char = name[1]  # 'l'"
   ]
  },
  {
   "attachments": {},
   "cell_type": "markdown",
   "metadata": {
    "id": "qMxF_HN4l1dF"
   },
   "source": [
    "3. `String slicin`g: You can extract a substring from a string using slicing. The syntax for slicing is `string[start:stop:step]`, where `start` is the starting index, `stop` is the ending index (exclusive), and `step` is the interval between characters."
   ]
  },
  {
   "cell_type": "code",
   "execution_count": 3,
   "metadata": {
    "id": "TQKBdWQ_mET3"
   },
   "outputs": [],
   "source": [
    "text = 'Python strings'\n",
    "substring = text[0:6]  # 'Python'"
   ]
  },
  {
   "attachments": {},
   "cell_type": "markdown",
   "metadata": {
    "id": "LF6ZdSPtmIfz"
   },
   "source": [
    "4. `String length`: You can find the length of a string using the built-in `len()` function."
   ]
  },
  {
   "cell_type": "code",
   "execution_count": 4,
   "metadata": {
    "id": "DhZyu3Y9mPBa"
   },
   "outputs": [],
   "source": [
    "message = 'Hello, World!'\n",
    "length = len(message)  # 13"
   ]
  },
  {
   "attachments": {},
   "cell_type": "markdown",
   "metadata": {
    "id": "9CU3LnJRmS5j"
   },
   "source": [
    "5. `String concatenation`: You can join two strings together using the `+` operator."
   ]
  },
  {
   "cell_type": "code",
   "execution_count": 5,
   "metadata": {
    "id": "dQ37E-8Qmbmh"
   },
   "outputs": [],
   "source": [
    "greeting = 'Hello'\n",
    "name = 'Alice'\n",
    "message = greeting + ', ' + name  # 'Hello, Alice'"
   ]
  },
  {
   "attachments": {},
   "cell_type": "markdown",
   "metadata": {
    "id": "EmN76v_gmeOt"
   },
   "source": [
    "6. `String methods`: Strings have many built-in methods that you can use to perform various operations, such as converting to uppercase, replacing characters, splitting strings, etc."
   ]
  },
  {
   "cell_type": "code",
   "execution_count": 6,
   "metadata": {
    "id": "c3mKV9inmjg7"
   },
   "outputs": [],
   "source": [
    "text = 'python programming'\n",
    "\n",
    "# Convert to uppercase\n",
    "uppercase_text = text.upper()  # 'PYTHON PROGRAMMING'\n",
    "\n",
    "# Replace characters\n",
    "replaced_text = text.replace('python', 'Java')  # 'Java programming'\n",
    "\n",
    "# Split string\n",
    "words = text.split(' ')  # ['python', 'programming']"
   ]
  },
  {
   "cell_type": "code",
   "execution_count": null,
   "metadata": {
    "id": "X5gh9H1PmqCD"
   },
   "outputs": [],
   "source": []
  },
  {
   "attachments": {},
   "cell_type": "markdown",
   "metadata": {
    "id": "JnxLBbZYh4oK"
   },
   "source": [
    "## Problem 1:\n",
    "\n",
    "You are given a list of dictionaries, each containing a user's information: first name, last name, age, and country. Your task is to write a Python script that iterates through the list and prints out the user's information in a formatted string as follows:"
   ]
  },
  {
   "cell_type": "code",
   "execution_count": 7,
   "metadata": {
    "id": "CYJxOk-Qh9V4"
   },
   "outputs": [
    {
     "ename": "SyntaxError",
     "evalue": "invalid syntax (4050289492.py, line 1)",
     "output_type": "error",
     "traceback": [
      "\u001b[1;36m  Cell \u001b[1;32mIn[7], line 1\u001b[1;36m\u001b[0m\n\u001b[1;33m    <First Name> <Last Name> is <Age> years old and comes from <Country>.\u001b[0m\n\u001b[1;37m    ^\u001b[0m\n\u001b[1;31mSyntaxError\u001b[0m\u001b[1;31m:\u001b[0m invalid syntax\n"
     ]
    }
   ],
   "source": [
    "<First Name> <Last Name> is <Age> years old and comes from <Country>."
   ]
  },
  {
   "attachments": {},
   "cell_type": "markdown",
   "metadata": {
    "id": "Xe4qLHk5h_5p"
   },
   "source": [
    "Here's the list of dictionaries:"
   ]
  },
  {
   "cell_type": "code",
   "execution_count": 1,
   "metadata": {
    "id": "LZqP2UX0iB4J"
   },
   "outputs": [],
   "source": [
    "users = [\n",
    "    {'first_name': 'John', 'last_name': 'Doe', 'age': 30, 'country': 'USA'},\n",
    "    {'first_name': 'Jane', 'last_name': 'Doe', 'age': 28, 'country': 'Canada'},\n",
    "    {'first_name': 'Alice', 'last_name': 'Johnson', 'age': 25, 'country': 'UK'},\n",
    "    {'first_name': 'Bob', 'last_name': 'Smith', 'age': 32, 'country': 'Australia'}\n",
    "]"
   ]
  },
  {
   "attachments": {},
   "cell_type": "markdown",
   "metadata": {
    "id": "sx8VYOkyibIN"
   },
   "source": [
    "### Output:\n",
    "\n",
    "```python\n",
    "John Doe is 30 years old and comes from USA.\n",
    "Jane Doe is 28 years old and comes from Canada.\n",
    "Alice Johnson is 25 years old and comes from UK.\n",
    "Bob Smith is 32 years old and comes from Australia.\n",
    "```"
   ]
  },
  {
   "cell_type": "code",
   "execution_count": null,
   "metadata": {
    "id": "3bP0ATV3iHFi"
   },
   "outputs": [],
   "source": []
  },
  {
   "attachments": {},
   "cell_type": "markdown",
   "metadata": {
    "id": "ymiEvDZ9isUN"
   },
   "source": [
    "## Problem 2:\n",
    "\n",
    "You are given a list of products, where each product is represented as a tuple containing the product's name, price, and quantity. Your task is to write a Python script that iterates through the list and prints out the product information in a formatted string as follows:\n",
    "\n",
    "```html\n",
    "<Product Name> - Price: $<Price> - Quantity: <Quantity>\n",
    "```\n",
    "Here's the list of products:\n",
    "\n",
    "```python\n",
    "products = [\n",
    "    ('Laptop', 999.99, 5),\n",
    "    ('Smartphone', 799.99, 10),\n",
    "    ('Tablet', 399.99, 7),\n",
    "    ('Headphones', 149.99, 25)\n",
    "]\n",
    "```\n",
    "## Output:\n",
    "\n",
    "```python\n",
    "Laptop - Price: $999.99 - Quantity: 5\n",
    "Smartphone - Price: $799.99 - Quantity: 10\n",
    "Tablet - Price: $399.99 - Quantity: 7\n",
    "Headphones - Price: $149.99 - Quantity: 25\n",
    "```\n"
   ]
  },
  {
   "cell_type": "code",
   "execution_count": null,
   "metadata": {
    "id": "fLjO1IQMivPR"
   },
   "outputs": [],
   "source": []
  },
  {
   "attachments": {},
   "cell_type": "markdown",
   "metadata": {
    "id": "IqW_UmEQj-ek"
   },
   "source": [
    "## Problem 3:\n",
    "\n",
    "You are given a list of students, where each student is represented as a dictionary containing the student's name and a list of their test scores. Your task is to write a Python script that calculates the average score for each student and prints out the student's name along with their average score, formatted as follows:\n",
    "\n",
    "```python\n",
    "<Student Name>: Average Score: <Average Score>\n",
    "```\n",
    "Here's the list of students:\n",
    "\n",
    "```python\n",
    "students = [\n",
    "    {'name': 'John', 'scores': [85, 90, 78, 92, 88]},\n",
    "    {'name': 'Jane', 'scores': [80, 85, 91, 89, 93]},\n",
    "    {'name': 'Alice', 'scores': [92, 96, 80, 81, 85]},\n",
    "    {'name': 'Bob', 'scores': [82, 84, 90, 78, 79]}\n",
    "]\n",
    "```\n",
    "## Output:\n",
    "\n",
    "```python\n",
    "John: Average Score: 86.60\n",
    "Jane: Average Score: 87.60\n",
    "Alice: Average Score: 86.80\n",
    "Bob: Average Score: 82.60\n",
    "```\n"
   ]
  },
  {
   "cell_type": "code",
   "execution_count": null,
   "metadata": {
    "id": "okU7w8-6kBNf"
   },
   "outputs": [],
   "source": []
  }
 ],
 "metadata": {
  "colab": {
   "authorship_tag": "ABX9TyMYo8MkpIUfoopU6gwEO60l",
   "include_colab_link": true,
   "provenance": []
  },
  "kernelspec": {
   "display_name": "Python 3",
   "name": "python3"
  },
  "language_info": {
   "codemirror_mode": {
    "name": "ipython",
    "version": 3
   },
   "file_extension": ".py",
   "mimetype": "text/x-python",
   "name": "python",
   "nbconvert_exporter": "python",
   "pygments_lexer": "ipython3",
   "version": "3.11.3"
  }
 },
 "nbformat": 4,
 "nbformat_minor": 0
}