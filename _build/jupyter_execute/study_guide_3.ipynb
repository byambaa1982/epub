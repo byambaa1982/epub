{
 "cells": [
  {
   "cell_type": "markdown",
   "metadata": {
    "colab_type": "text",
    "id": "view-in-github"
   },
   "source": [
    "<a href=\"https://colab.research.google.com/github/byambaa1982/python_cources_for_beginers/blob/main/control%20flow/3_control_flow_lab_solution.ipynb\" target=\"_parent\"><img src=\"https://colab.research.google.com/assets/colab-badge.svg\" alt=\"Open In Colab\"/></a>"
   ]
  },
  {
   "cell_type": "markdown",
   "metadata": {
    "id": "u9gtqyFjDHlh"
   },
   "source": [
    "## Solution code 1"
   ]
  },
  {
   "cell_type": "code",
   "execution_count": 1,
   "metadata": {
    "colab": {
     "base_uri": "https://localhost:8080/"
    },
    "id": "scA2hVJpCa1L",
    "outputId": "cb49b5e5-4445-4f27-adb6-8f746f4e3328"
   },
   "outputs": [
    {
     "name": "stdout",
     "output_type": "stream",
     "text": [
      "1 is not a multiple of 3.\n",
      "2 is not a multiple of 3.\n",
      "3 is a multiple of 3.\n",
      "4 is not a multiple of 3.\n",
      "5 is not a multiple of 3.\n",
      "6 is a multiple of 3.\n",
      "7 is not a multiple of 3.\n",
      "8 is not a multiple of 3.\n",
      "9 is a multiple of 3.\n",
      "10 is not a multiple of 3.\n"
     ]
    }
   ],
   "source": [
    "for number in range(1, 11):\n",
    "    if number % 3 == 0:\n",
    "        print(f\"{number} is a multiple of 3.\")\n",
    "    else:\n",
    "        print(f\"{number} is not a multiple of 3.\")"
   ]
  },
  {
   "cell_type": "markdown",
   "metadata": {
    "id": "niAmQnMQITcc"
   },
   "source": [
    "## Solution code 2"
   ]
  },
  {
   "cell_type": "code",
   "execution_count": 2,
   "metadata": {
    "colab": {
     "base_uri": "https://localhost:8080/"
    },
    "id": "npFZA3wIDIv3",
    "outputId": "4585d8b6-66de-4a1b-aa02-8c5379020395"
   },
   "outputs": [
    {
     "name": "stdout",
     "output_type": "stream",
     "text": [
      "1 is not divisible by 4.\n",
      "2 is not divisible by 4.\n",
      "3 is not divisible by 4.\n",
      "4 is divisible by 4.\n",
      "5 is not divisible by 4.\n",
      "6 is not divisible by 4.\n",
      "7 is not divisible by 4.\n",
      "8 is divisible by 4.\n",
      "9 is not divisible by 4.\n",
      "10 is not divisible by 4.\n",
      "11 is not divisible by 4.\n",
      "12 is divisible by 4.\n",
      "13 is not divisible by 4.\n",
      "14 is not divisible by 4.\n",
      "15 is not divisible by 4.\n"
     ]
    }
   ],
   "source": [
    "for number in range(1, 16):\n",
    "    if number % 4 == 0:\n",
    "        print(f\"{number} is divisible by 4.\")\n",
    "    else:\n",
    "        print(f\"{number} is not divisible by 4.\")"
   ]
  },
  {
   "cell_type": "markdown",
   "metadata": {
    "id": "cfFncoZhJtM8"
   },
   "source": [
    "## Solution code 3"
   ]
  },
  {
   "cell_type": "code",
   "execution_count": 3,
   "metadata": {
    "colab": {
     "base_uri": "https://localhost:8080/"
    },
    "id": "bktDBlbsIP6M",
    "outputId": "785ba025-a989-42b5-ee80-26df7ea1e192"
   },
   "outputs": [
    {
     "name": "stdout",
     "output_type": "stream",
     "text": [
      "dog is a mammal.\n",
      "cat is a mammal.\n",
      "crocodile is not a mammal.\n",
      "parrot is not a mammal.\n",
      "elephant is a mammal.\n"
     ]
    }
   ],
   "source": [
    "animals = [\"dog\", \"cat\", \"crocodile\", \"parrot\", \"elephant\"]\n",
    "mammals = [\"dog\", \"cat\", \"elephant\"]\n",
    "\n",
    "for animal in animals:\n",
    "    if animal in mammals:\n",
    "        print(f\"{animal} is a mammal.\")\n",
    "    else:\n",
    "        print(f\"{animal} is not a mammal.\")"
   ]
  },
  {
   "cell_type": "markdown",
   "metadata": {
    "id": "SqCJ3fqkPvCq"
   },
   "source": [
    "## Solution code 6"
   ]
  },
  {
   "cell_type": "code",
   "execution_count": 4,
   "metadata": {
    "colab": {
     "base_uri": "https://localhost:8080/"
    },
    "id": "ysQ9qy9wJoPT",
    "outputId": "c27b07c9-1aab-47fd-af39-9773a318ec87"
   },
   "outputs": [
    {
     "name": "stdout",
     "output_type": "stream",
     "text": [
      "1. C is a compiled language.\n",
      "2. Java is a compiled language.\n",
      "3. Python is an interpreted language.\n",
      "4. Ruby is an interpreted language.\n",
      "5. C# is a compiled language.\n",
      "6. JavaScript is an interpreted language.\n",
      "7. Swift is a compiled language.\n",
      "Total number of programming languages: 7\n"
     ]
    }
   ],
   "source": [
    "languages = [\"C\", \"Java\", \"Python\", \"Ruby\", \"C#\", \"JavaScript\", \"Swift\"]\n",
    "compiled_languages = [\"C\", \"Java\", \"C#\", \"Swift\"]\n",
    "\n",
    "for index, language in enumerate(languages):\n",
    "    if language in compiled_languages:\n",
    "        print(f\"{index + 1}. {language} is a compiled language.\")\n",
    "    else:\n",
    "        print(f\"{index + 1}. {language} is an interpreted language.\")\n",
    "\n",
    "print(f\"Total number of programming languages: {len(languages)}\")"
   ]
  },
  {
   "cell_type": "code",
   "execution_count": null,
   "metadata": {
    "id": "rIpI4PjFN34J"
   },
   "outputs": [],
   "source": []
  }
 ],
 "metadata": {
  "colab": {
   "authorship_tag": "ABX9TyPxVkt4N394sTcxhJGv5/ru",
   "include_colab_link": true,
   "provenance": []
  },
  "kernelspec": {
   "display_name": "Python 3",
   "name": "python3"
  },
  "language_info": {
   "codemirror_mode": {
    "name": "ipython",
    "version": 3
   },
   "file_extension": ".py",
   "mimetype": "text/x-python",
   "name": "python",
   "nbconvert_exporter": "python",
   "pygments_lexer": "ipython3",
   "version": "3.11.3"
  }
 },
 "nbformat": 4,
 "nbformat_minor": 0
}