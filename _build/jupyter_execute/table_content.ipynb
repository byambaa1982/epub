{
 "cells": [
  {
   "attachments": {},
   "cell_type": "markdown",
   "metadata": {
    "colab_type": "text",
    "id": "view-in-github"
   },
   "source": [
    "<a href=\"https://colab.research.google.com/github/byambaa1982/python_cources_for_beginers/blob/main/Mini%20Project%202/projecsimple_flask_app.ipynb\" target=\"_parent\"><img src=\"https://colab.research.google.com/assets/colab-badge.svg\" alt=\"Open In Colab\"/></a>"
   ]
  },
  {
   "attachments": {},
   "cell_type": "markdown",
   "metadata": {
    "id": "S1QkB4XbClXs"
   },
   "source": [
    "# 1. Introduction to Python\n",
    "\n",
    "## 1. Why Python?\n",
    "\n",
    "- [Learn and Earn](https://github.com/byambaa1982/python_cources_for_beginers/blob/main/1_introduction/why_python.md)\n",
    "\n",
    "```{note} Python is the most popular programming lanuage. It is a language for **AI**. \n",
    "```\n",
    "\n",
    "## 2. [Variables and Data Types](https://github.com/byambaa1982/python_cources_for_beginers/tree/main/2_variables_and_operations)\n",
    "\n",
    "- Basic Operators and Expressions\n",
    "- Input and Output Functions\n",
    "- Comments and Docstrings\n",
    "\n",
    "## 3. [Conditional Statements: if, elif, and else](https://github.com/byambaa1982/python_cources_for_beginers/tree/main/3_control%20flow)\n",
    "\n",
    "- Looping: for and while Loops\n",
    "- Loop Control: break and continue\n",
    "- List Comprehensions\n",
    "- Functions and Modules\n",
    "\n",
    "## 4. [Defining Functions](https://github.com/byambaa1982/python_cources_for_beginers/tree/main/4_functions)\n",
    "\n",
    "- Function Arguments and Return Values\n",
    "- Variable Scope\n",
    "- Importing Modules and Libraries\n",
    "\n",
    "\n",
    "## 5. [Data Structures](https://github.com/byambaa1982/python_cources_for_beginers/tree/main/5_lists_tuples_dictionaries_sets)\n",
    "\n",
    "- Lists\n",
    "- Tuples\n",
    "- Dictionaries\n",
    "- Sets\n",
    "\n",
    "## 6. [Strings](https://github.com/byambaa1982/python_cources_for_beginers/tree/main/6_string_formating)\n",
    "\n",
    "- String Basics\n",
    "- String Formatting\n",
    "- Common String Methods\n",
    "- Regular Expressionss\n",
    "\n",
    "## 7. [Project: A Simple Flask App](https://github.com/byambaa1982/python_cources_for_beginers/tree/main/Mini%20Project%202)\n",
    "\n",
    "-  `Python programming`: Flask is a Python framework, so students will gain experience in Python programming. They will learn how to write Python functions and how to use Python libraries, in this case, Flask.\n",
    "\n",
    "-  `Web Development Basics`: Students will learn the basics of web development, including how web servers work, how HTTP requests are handled, and the request-response cycle. They will understand the basic structure of a web application.\n",
    "\n",
    "-  `Flask Framework`: Students will get a hands-on introduction to Flask. They will learn how to create routes and view functions in Flask, how to run a Flask application, and understand the purpose of the if __name__ == '__main__': block.\n",
    "\n",
    "-  `Project Management`: By creating a requirements.txt file, students will learn the importance of managing project dependencies and how to use them to ensure that their code can run in different environments.\n",
    "\n",
    "-  `Debugging`: By running their application in debug mode, students will learn basic debugging techniques and understand the importance of reading and understanding error messages."
   ]
  }
 ],
 "metadata": {
  "colab": {
   "include_colab_link": true,
   "provenance": []
  },
  "kernelspec": {
   "display_name": "Python 3",
   "name": "python3"
  },
  "language_info": {
   "codemirror_mode": {
    "name": "ipython",
    "version": 3
   },
   "file_extension": ".py",
   "mimetype": "text/x-python",
   "name": "python",
   "nbconvert_exporter": "python",
   "pygments_lexer": "ipython3",
   "version": "3.11.3"
  }
 },
 "nbformat": 4,
 "nbformat_minor": 0
}