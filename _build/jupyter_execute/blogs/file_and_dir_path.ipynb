{
 "cells": [
  {
   "cell_type": "markdown",
   "id": "a97c5a8c",
   "metadata": {},
   "source": [
    "# Understanding File and Directory Paths in Python"
   ]
  },
  {
   "cell_type": "markdown",
   "id": "4e7ca762",
   "metadata": {},
   "source": [
    "In my journey of developing a Flask app, I had a script named load_sheet_db.py that was responsible for loading data from Google Sheets. As I dove deeper into the code, I encountered the __file__ variable. In Python scripts, `__file__` is a magical built-in global variable. It holds the path of the script that's currently being executed, which, in my case, was load_sheet_db.py. This path can either be absolute or relative, and it hinges on the way the script was invoked."
   ]
  },
  {
   "cell_type": "markdown",
   "id": "ac9ef25d",
   "metadata": {},
   "source": [
    "## The Power of `__file__`\n",
    "At the heart of this process is the built-in global variable `__file__`. In Python scripts, `__file__`` represents the path of the script currently being executed. Depending on how you invoked the script, this could be an absolute path or a relative one.\n",
    "\n",
    "### Example: If you've ever executed a script with:\n",
    "\n",
    "```\n",
    "python some_folder/my_script.py\n",
    "```\n",
    "`__file__` would contain `'some_folder/my_script.py'`.\n",
    "\n",
    "\n",
    "```\n",
    "user\n",
    "│\n",
    "├── main_directory\n",
    "│   ├── flaskr\n",
    "│   │   └── load_sheet_db.py\n",
    "│   │\n",
    "│   └── instance\n",
    "│       └── flaskr.sqlite\n",
    "\n",
    "```"
   ]
  },
  {
   "cell_type": "markdown",
   "id": "0e51378a",
   "metadata": {},
   "source": [
    "![summit](../images/automation_400_200.png)"
   ]
  },
  {
   "cell_type": "markdown",
   "id": "6e45c9c7",
   "metadata": {},
   "source": [
    "## Resolving the Real Path: `os.path.realpath()`\n",
    "\n",
    "Symbolic links can sometimes mask the true location of your script. To avoid any ambiguities and get the actual path to your script, we use:\n",
    "\n",
    "\n",
    "```\n",
    "os.path.realpath(__file__)\n",
    "```\n",
    "\n",
    "This function returns the canonical path of the specified filename, eliminating any symbolic links encountered."
   ]
  },
  {
   "cell_type": "markdown",
   "id": "be5c6fc7",
   "metadata": {},
   "source": [
    "## Finding the Parent Directory: `os.path.dirname()`\n",
    "\n",
    "Once you know the full path to your script, the next step is often to determine its parent directory. The function for this is:\n"
   ]
  },
  {
   "cell_type": "code",
   "execution_count": 1,
   "id": "72ce9ab8",
   "metadata": {},
   "outputs": [
    {
     "ename": "NameError",
     "evalue": "name 'os' is not defined",
     "output_type": "error",
     "traceback": [
      "\u001b[1;31m---------------------------------------------------------------------------\u001b[0m",
      "\u001b[1;31mNameError\u001b[0m                                 Traceback (most recent call last)",
      "Cell \u001b[1;32mIn[1], line 1\u001b[0m\n\u001b[1;32m----> 1\u001b[0m \u001b[43mos\u001b[49m\u001b[38;5;241m.\u001b[39mpath\u001b[38;5;241m.\u001b[39mdirname(os\u001b[38;5;241m.\u001b[39mpath\u001b[38;5;241m.\u001b[39mrealpath(\u001b[38;5;18m__file__\u001b[39m))\n",
      "\u001b[1;31mNameError\u001b[0m: name 'os' is not defined"
     ]
    }
   ],
   "source": [
    "\n",
    "os.path.dirname(os.path.realpath(__file__))"
   ]
  },
  {
   "cell_type": "markdown",
   "id": "e563ffa2",
   "metadata": {},
   "source": [
    "\n",
    "This returns the directory name of the provided path, allowing you to work relative to the script's location."
   ]
  },
  {
   "cell_type": "markdown",
   "id": "697ae78a",
   "metadata": {},
   "source": [
    "## Building Paths Intelligently: os.path.join()\n",
    "String concatenation can be tricky and error-prone when building paths, especially if you aim for cross-platform compatibility. Python offers:\n",
    "\n"
   ]
  },
  {
   "cell_type": "code",
   "execution_count": 5,
   "id": "f87d6355",
   "metadata": {},
   "outputs": [],
   "source": [
    "os.path.join()"
   ]
  },
  {
   "cell_type": "code",
   "execution_count": 8,
   "id": "be646cdb",
   "metadata": {},
   "outputs": [],
   "source": [
    "db_path = 'quiz.sqlite3'  \n",
    "conn = sqlite3.connect(db_path)"
   ]
  },
  {
   "cell_type": "markdown",
   "id": "498fd79b",
   "metadata": {},
   "source": [
    "This function constructs paths by merging multiple components, ensuring they fit the OS's path structure. Particularly useful is the '..' component, which indicates moving one directory up."
   ]
  },
  {
   "cell_type": "code",
   "execution_count": null,
   "id": "d0c2f2f0",
   "metadata": {},
   "outputs": [],
   "source": [
    "dir_path = os.path.dirname(os.path.realpath(__file__))\n",
    "db_path = os.path.join(dir_path, '..', 'instance', 'flaskr.sqlite')"
   ]
  },
  {
   "cell_type": "code",
   "execution_count": null,
   "id": "ae5c49af",
   "metadata": {},
   "outputs": [],
   "source": [
    "import pandas as pd\n",
    "from oauth2client.service_account import ServiceAccountCredentials\n",
    "import gspread\n",
    "import sqlite3\n",
    "import sqlite3\n",
    "import os\n",
    "\n",
    "\n",
    "def get_user_information(sheet_name):\n",
    "\n",
    "  scope = ['https://spreadsheets.google.com/feeds','https://www.googleapis.com/auth/drive']\n",
    "  dir_path = os.path.dirname(os.path.realpath(__file__))\n",
    "  creds_path = os.path.join(dir_path, 'creds.json')\n",
    "  creds = ServiceAccountCredentials.from_json_keyfile_name(creds_path, scope)\n",
    "  client = gspread.authorize(creds)\n",
    "  industries = client.open(\"quizs\").worksheet(sheet_name)\n",
    "  users = pd.DataFrame(industries.get_all_values())\n",
    "  return users\n",
    "\n",
    "def make_float(x):\n",
    "\n",
    "    if x is None or x == \"\":\n",
    "        return 0.0\n",
    "    elif type(x) == float:\n",
    "      return x\n",
    "    elif type(x) == int:\n",
    "      return float(x)\n",
    "    else:\n",
    "      x = x.replace(\",\", \"\")\n",
    "      return float(x)\n",
    "\n",
    "\n",
    "def clean_data(df, exclude_col):\n",
    "    cols = df.columns\n",
    "    for col in cols:\n",
    "        if col != exclude_col:\n",
    "            df[col] = df[col].map(lambda x: make_float(x))\n",
    "    return df\n",
    "\n",
    "def get_data_from_sheets(name_of_sheet):\n",
    "    df = get_user_information(name_of_sheet)  # assuming get_user_information is defined somewhere else\n",
    "    df = df.rename(columns=df.iloc[0]).drop(df.index[0])\n",
    "    return df\n",
    "\n",
    "def turn_data_sqlite(sheet_name):\n",
    "    #  ---- Access Google Sheets data and turn into pandas Dataframe ----\n",
    "    print(\"Function called\")  # Check if the function is entered\n",
    "    data = get_data_from_sheets(sheet_name)\n",
    "    cleaned_df = data\n",
    "    cleaned_df['created'] = datetime.now()\n",
    "    dir_path = os.path.dirname(os.path.realpath(__file__))\n",
    "    db_path = os.path.join(dir_path, '..', 'instance', 'flaskr.sqlite')\n",
    "    print(f\"Database path: {db_path}\")  # Add this line\n",
    "    conn = sqlite3.connect(db_path)\n",
    "    print(F\"{cleaned_df.shape[0]} rows {cleaned_df.shape[1]} columns are written to database\")\n",
    "    cleaned_df.to_sql(sheet_name, conn, if_exists='append', index=False)\n",
    "    conn.close()\n",
    "    return \"It is done!\"\n"
   ]
  },
  {
   "cell_type": "markdown",
   "id": "5da5ddea",
   "metadata": {},
   "source": [
    "In the context of our tutorial, this effectively moves up from the script's directory and points to a sibling directory named 'instance'.\n",
    "\n",
    "## Wrapping Up\n",
    "\n",
    "Navigating file and directory paths in Python might seem daunting at first, but with the right tools, it becomes a breeze. By understanding and combining __file__, os.path.realpath(), os.path.dirname(), and os.path.join(), you can ensure that your scripts remain robust, no matter where they're run from or on which system."
   ]
  }
 ],
 "metadata": {
  "kernelspec": {
   "display_name": "Python 3 (ipykernel)",
   "language": "python",
   "name": "python3"
  },
  "language_info": {
   "codemirror_mode": {
    "name": "ipython",
    "version": 3
   },
   "file_extension": ".py",
   "mimetype": "text/x-python",
   "name": "python",
   "nbconvert_exporter": "python",
   "pygments_lexer": "ipython3",
   "version": "3.11.3"
  }
 },
 "nbformat": 4,
 "nbformat_minor": 5
}